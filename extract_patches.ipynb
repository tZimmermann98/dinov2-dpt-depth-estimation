{
 "cells": [
  {
   "cell_type": "markdown",
   "id": "601c4a95-44ee-4c18-9fb4-498db38fe2a2",
   "metadata": {},
   "source": [
    "# Imports"
   ]
  },
  {
   "cell_type": "code",
   "execution_count": 1,
   "id": "b3368f5e-da7d-47c5-bbaf-547624185ad7",
   "metadata": {},
   "outputs": [],
   "source": [
    "import os\n",
    "import rasterio\n",
    "import numpy as np\n",
    "from tqdm.auto import tqdm\n",
    "from scipy.ndimage import zoom"
   ]
  },
  {
   "cell_type": "markdown",
   "id": "61b3a487-3b81-4919-ab5c-18e3664cc106",
   "metadata": {},
   "source": [
    "# Helper Functions"
   ]
  },
  {
   "cell_type": "code",
   "execution_count": null,
   "id": "405c4fdb-9215-49e9-bf2c-355e83f5f3bd",
   "metadata": {},
   "outputs": [],
   "source": [
    "def check_lbl_in_img(lbl_box, img_box):\n",
    "    return (\n",
    "        lbl_box.left >= img_box.left and\n",
    "        lbl_box.bottom >= img_box.bottom and\n",
    "        lbl_box.right <= img_box.right and\n",
    "        lbl_box.top <= img_box.top\n",
    "    )\n",
    "\n",
    "def read_lbl(lbl_path):\n",
    "    with rasterio.open(lbl_path) as lbl:\n",
    "        bounds = lbl.bounds\n",
    "        data = lbl.read(1)\n",
    "    return data, bounds\n",
    "\n",
    "def read_img(img_path, bounds):\n",
    "    with rasterio.open(img_path) as img:\n",
    "        window = img.window(left=bounds.left, bottom=bounds.bottom, right=bounds.right, top=bounds.top)\n",
    "        data = img.read(window=window)\n",
    "    return data\n",
    "\n",
    "def reduce_resolution(rgb_data, lidar_shape):\n",
    "    scale_factors = [\n",
    "        lidar_shape[0] / rgb_data.shape[1],\n",
    "        lidar_shape[1] / rgb_data.shape[2]\n",
    "    ]\n",
    "\n",
    "    resized_rgb = zoom(rgb_data[:, np.newaxis, :, :], (1, 1) + tuple(scale_factors), order=1)\n",
    "    \n",
    "    resized_rgb = resized_rgb[:, 0, :, :]\n",
    "\n",
    "    return resized_rgb"
   ]
  },
  {
   "cell_type": "markdown",
   "id": "8aca3409-c68e-4afb-863b-d30840eb1c3a",
   "metadata": {},
   "source": [
    "# Constants"
   ]
  },
  {
   "cell_type": "code",
   "execution_count": null,
   "id": "174743da-7d92-4313-b12b-bf96dfdd1e44",
   "metadata": {},
   "outputs": [],
   "source": [
    "TRAIN_FOLDER = \"data/train\"\n",
    "TEST_FOLDER = \"data/test\"\n",
    "TRAIN_IMG_PATH = \"data/train_area_tobias.tif\"\n",
    "TEST_IMG_PATH = \"data/test_area_tobias.tif\"\n",
    "\n",
    "with rasterio.open(TRAIN_IMG_PATH) as train_img:\n",
    "    TRAIN_BOUNDS = train_img.bounds\n",
    "\n",
    "with rasterio.open(TEST_IMG_PATH) as train_img:\n",
    "    TEST_BOUNDS = train_img.bounds\n",
    "\n",
    "TRAIN_DEST_FOLDER = \"data/processed/train\"\n",
    "TEST_DEST_FOLDER = \"data/processed/test\""
   ]
  },
  {
   "cell_type": "markdown",
   "id": "683247fb-f780-4dcb-95a4-997d4eb61441",
   "metadata": {},
   "source": [
    "# Train"
   ]
  },
  {
   "cell_type": "code",
   "execution_count": null,
   "id": "8cab37db-3207-4637-8cad-551a94990888",
   "metadata": {},
   "outputs": [],
   "source": [
    "train_files = [f for f in os.listdir(TRAIN_FOLDER) if f.endswith('.tif')]\n",
    "unusable_lbls = 0\n",
    "i = 1\n",
    "for train_file in tqdm(train_files):\n",
    "    train_file_path = os.path.join(TRAIN_FOLDER, train_file)\n",
    "    y, bbox = read_lbl(train_file_path)\n",
    "    if not check_lbl_in_img(bbox, TRAIN_BOUNDS):\n",
    "        unusable_lbls += 1\n",
    "        continue\n",
    "    X_high_res = read_img(TRAIN_IMG_PATH, bbox)\n",
    "    X = reduce_resolution(X_high_res, y.shape)\n",
    "    save_path = f\"{TRAIN_DEST_FOLDER}/train_data_{i}.npz\"\n",
    "    np.savez(save_path, X=X, y=y)\n",
    "    i += 1\n",
    "print(f'unusable labels: {unusable_lbls}')"
   ]
  },
  {
   "cell_type": "markdown",
   "id": "adde12fa-8b6e-4f54-a68b-24c38c5a0a0e",
   "metadata": {},
   "source": [
    "# Test"
   ]
  },
  {
   "cell_type": "code",
   "execution_count": null,
   "id": "81d38356-7ae5-49e2-9562-baa83143aaea",
   "metadata": {},
   "outputs": [],
   "source": [
    "test_files = [f for f in os.listdir(TEST_FOLDER) if f.endswith('.tif')]\n",
    "unusable_lbls = 0\n",
    "i = 1\n",
    "for test_file in tqdm(test_files):\n",
    "    test_file_path = os.path.join(TEST_FOLDER, test_file)\n",
    "    y, bbox = read_lbl(test_file_path)\n",
    "    if not check_lbl_in_img(bbox, TEST_BOUNDS):\n",
    "        unusable_lbls += 1\n",
    "        continue\n",
    "    X_high_res = read_img(TEST_IMG_PATH, bbox)\n",
    "    X = reduce_resolution(X_high_res, y.shape)\n",
    "    save_path = f\"{TEST_DEST_FOLDER}/test_data_{i}.npz\"\n",
    "    np.savez(save_path, X=X, y=y)\n",
    "    i += 1\n",
    "print(f'unusable labels: {unusable_lbls}')"
   ]
  }
 ],
 "metadata": {
  "kernelspec": {
   "display_name": "Python 3 (ipykernel)",
   "language": "python",
   "name": "python3"
  },
  "language_info": {
   "codemirror_mode": {
    "name": "ipython",
    "version": 3
   },
   "file_extension": ".py",
   "mimetype": "text/x-python",
   "name": "python",
   "nbconvert_exporter": "python",
   "pygments_lexer": "ipython3",
   "version": "3.11.5"
  }
 },
 "nbformat": 4,
 "nbformat_minor": 5
}
