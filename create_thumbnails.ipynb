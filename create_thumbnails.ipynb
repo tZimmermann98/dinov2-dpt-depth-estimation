{
 "cells": [
  {
   "cell_type": "markdown",
   "id": "8be0cda3-c2d7-4eb7-a7c4-da7b30735627",
   "metadata": {},
   "source": [
    "# Imports"
   ]
  },
  {
   "cell_type": "code",
   "execution_count": 1,
   "id": "848304c9-4daf-4270-a3e9-37b9af30add8",
   "metadata": {},
   "outputs": [],
   "source": [
    "import os\n",
    "from tqdm.auto import tqdm\n",
    "import numpy as np"
   ]
  },
  {
   "cell_type": "markdown",
   "id": "fa961dd0-68e1-4da5-a5f5-acad6bf33c8b",
   "metadata": {},
   "source": [
    "# Constants"
   ]
  },
  {
   "cell_type": "code",
   "execution_count": null,
   "id": "352839d2-2185-452c-9d77-fb6c2b291853",
   "metadata": {},
   "outputs": [],
   "source": [
    "TRAIN_SRC_FOLDER = 'data/processed/train'\n",
    "TRAIN_DEST_FOLDER = 'data/thumbnails/train'\n",
    "TEST_SRC_FOLDER = 'data/processed/test'\n",
    "TEST_DEST_FOLDER = 'data/thumbnails/test'\n",
    "NUM_PATCHES_X = 8\n",
    "NUM_PATCHES_Y = 8"
   ]
  },
  {
   "cell_type": "markdown",
   "id": "7d55e19a-4380-477f-947d-7746e9f980f1",
   "metadata": {},
   "source": [
    "# Train"
   ]
  },
  {
   "cell_type": "code",
   "execution_count": null,
   "id": "871feee6-0d5d-4efc-a900-c164a6ae10a5",
   "metadata": {},
   "outputs": [],
   "source": [
    "files = [f for f in os.listdir(TRAIN_SRC_FOLDER) if f.endswith('.npz')]\n",
    "for f in tqdm(files):\n",
    "    src_path = os.path.join(TRAIN_SRC_FOLDER, f)\n",
    "    with np.load(src_path) as data:\n",
    "        X = data['X']\n",
    "        y = data['y']\n",
    "    \n",
    "    patch_size_x = X.shape[1] // NUM_PATCHES_X\n",
    "    patch_size_y = X.shape[2] // NUM_PATCHES_Y\n",
    "\n",
    "    X_patches = []\n",
    "    y_patches = []\n",
    "\n",
    "    for i in range(NUM_PATCHES_X):\n",
    "        for j in range(NUM_PATCHES_Y):\n",
    "            start_x = i * patch_size_x\n",
    "            end_x = start_x + patch_size_x\n",
    "            start_y = j * patch_size_y\n",
    "            end_y = start_y + patch_size_y\n",
    "\n",
    "            X_patch = X[:, start_x:end_x, start_y:end_y]\n",
    "            y_patch = y[start_x:end_x, start_y:end_y]\n",
    "\n",
    "            X_patches.append(X_patch)\n",
    "            y_patches.append(y_patch)\n",
    "\n",
    "    for i, (X_patch, y_patch) in enumerate(zip(X_patches,y_patches)):\n",
    "        filename = f\"{f.split('.')[0]}_thumbnail_{i+1}.npz\"\n",
    "        dest_path = os.path.join(TRAIN_DEST_FOLDER, filename)\n",
    "        np.savez(dest_path, X=X_patch, y=y_patch)"
   ]
  },
  {
   "cell_type": "markdown",
   "id": "14744109-fc25-4796-bd9d-c6a356e4c098",
   "metadata": {},
   "source": [
    "# Test"
   ]
  },
  {
   "cell_type": "code",
   "execution_count": null,
   "id": "55f0e403-26d5-4439-a1f1-d62c94ee3269",
   "metadata": {},
   "outputs": [],
   "source": [
    "files = [f for f in os.listdir(TEST_SRC_FOLDER) if f.endswith('.npz')]\n",
    "for f in tqdm(files):\n",
    "    src_path = os.path.join(TEST_SRC_FOLDER, f)\n",
    "    with np.load(src_path) as data:\n",
    "        X = data['X']\n",
    "        y = data['y']\n",
    "    \n",
    "    patch_size_x = X.shape[1] // NUM_PATCHES_X\n",
    "    patch_size_y = X.shape[2] // NUM_PATCHES_Y\n",
    "\n",
    "    X_patches = []\n",
    "    y_patches = []\n",
    "\n",
    "    for i in range(NUM_PATCHES_X):\n",
    "        for j in range(NUM_PATCHES_Y):\n",
    "            start_x = i * patch_size_x\n",
    "            end_x = start_x + patch_size_x\n",
    "            start_y = j * patch_size_y\n",
    "            end_y = start_y + patch_size_y\n",
    "\n",
    "            X_patch = X[:, start_x:end_x, start_y:end_y]\n",
    "            y_patch = y[start_x:end_x, start_y:end_y]\n",
    "\n",
    "            X_patches.append(X_patch)\n",
    "            y_patches.append(y_patch)\n",
    "\n",
    "    for i, (X_patch, y_patch) in enumerate(zip(X_patches,y_patches)):\n",
    "        filename = f\"{f.split('.')[0]}_thumbnail_{i+1}.npz\"\n",
    "        dest_path = os.path.join(TEST_DEST_FOLDER, filename)\n",
    "        np.savez(dest_path, X=X_patch, y=y_patch)"
   ]
  }
 ],
 "metadata": {
  "kernelspec": {
   "display_name": "Python 3 (ipykernel)",
   "language": "python",
   "name": "python3"
  },
  "language_info": {
   "codemirror_mode": {
    "name": "ipython",
    "version": 3
   },
   "file_extension": ".py",
   "mimetype": "text/x-python",
   "name": "python",
   "nbconvert_exporter": "python",
   "pygments_lexer": "ipython3",
   "version": "3.9.4"
  }
 },
 "nbformat": 4,
 "nbformat_minor": 5
}
